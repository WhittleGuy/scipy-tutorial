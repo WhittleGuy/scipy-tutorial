{
 "cells": [
  {
   "cell_type": "code",
   "execution_count": 1,
   "id": "5c5ba983",
   "metadata": {},
   "outputs": [],
   "source": [
    "import numpy as np\n",
    "import scipy as sp\n",
    "import matplotlib.pyplot as plt"
   ]
  },
  {
   "cell_type": "markdown",
   "id": "ffb269ec",
   "metadata": {},
   "source": [
    "# Basic\n",
    "\n",
    "## Optimization"
   ]
  },
  {
   "cell_type": "code",
   "execution_count": 2,
   "id": "e8f83ac8",
   "metadata": {},
   "outputs": [],
   "source": [
    "from scipy.optimize import minimize"
   ]
  },
  {
   "cell_type": "markdown",
   "id": "71b612e7",
   "metadata": {},
   "source": [
    "Minimize $f(x)=(x-3)^2$"
   ]
  },
  {
   "cell_type": "code",
   "execution_count": 4,
   "id": "fbb59a68",
   "metadata": {},
   "outputs": [
    {
     "data": {
      "text/plain": [
       "      fun: 5.551437397369767e-17\n",
       " hess_inv: array([[0.5]])\n",
       "      jac: array([-4.3254289e-13])\n",
       "  message: 'Optimization terminated successfully.'\n",
       "     nfev: 6\n",
       "      nit: 2\n",
       "     njev: 3\n",
       "   status: 0\n",
       "  success: True\n",
       "        x: array([2.99999999])"
      ]
     },
     "execution_count": 4,
     "metadata": {},
     "output_type": "execute_result"
    }
   ],
   "source": [
    "def f(x):\n",
    "    return (x-3)**2\n",
    "\n",
    "res = minimize(f, 2)\n",
    "res"
   ]
  },
  {
   "cell_type": "code",
   "execution_count": 5,
   "id": "b39795db",
   "metadata": {},
   "outputs": [
    {
     "data": {
      "text/plain": [
       "array([2.99999999])"
      ]
     },
     "execution_count": 5,
     "metadata": {},
     "output_type": "execute_result"
    }
   ],
   "source": [
    "res.x"
   ]
  },
  {
   "cell_type": "markdown",
   "id": "5b45cda7",
   "metadata": {},
   "source": [
    "Minimize $f(x, y) = (x-1)^2 + (y-2.5)^2$ subject to\n",
    "\n",
    "\\begin{equation}\n",
    "x-2y+2 \\ge 0 \\\\\n",
    "-x-2y+6 \\ge 0 \\\\\n",
    "-x+2y+2 \\ge 0 \\\\\n",
    "x \\ge 0 \\\\\n",
    "y \\ge 0\n",
    "\\end{equation}"
   ]
  },
  {
   "cell_type": "markdown",
   "id": "d016235e",
   "metadata": {},
   "source": [
    "* 2D function takes in vector x\n",
    "* Constraints must b specified as $g_i(x) \\ge 0$\n",
    "* Bounds specified as rectangular"
   ]
  },
  {
   "cell_type": "code",
   "execution_count": 9,
   "id": "beaaeef7",
   "metadata": {},
   "outputs": [
    {
     "data": {
      "text/plain": [
       "     fun: 0.8000000011920985\n",
       "     jac: array([ 0.80000002, -1.59999999])\n",
       " message: 'Optimization terminated successfully'\n",
       "    nfev: 10\n",
       "     nit: 3\n",
       "    njev: 3\n",
       "  status: 0\n",
       " success: True\n",
       "       x: array([1.4, 1.7])"
      ]
     },
     "execution_count": 9,
     "metadata": {},
     "output_type": "execute_result"
    }
   ],
   "source": [
    "f = lambda x: (x[0] - 1)**2 + (x[1] - 2.5)**2\n",
    "\n",
    "cons = ({'type': 'ineq', 'fun': lambda x: x[0]-2*x[1]+2},\n",
    "        {'type': 'ineq', 'fun': lambda x: -x[0]-2*x[1]+6},\n",
    "        {'type': 'ineq', 'fun': lambda x: -x[0]+2*x[1]+2})\n",
    "\n",
    "bnds = ((0, None), (0, None))\n",
    "\n",
    "res = minimize(f, (2, 0), bounds=bnds, constraints=cons)\n",
    "res"
   ]
  },
  {
   "cell_type": "code",
   "execution_count": 11,
   "id": "4994ac0d",
   "metadata": {},
   "outputs": [
    {
     "data": {
      "text/plain": [
       "array([1.4, 1.7])"
      ]
     },
     "execution_count": 11,
     "metadata": {},
     "output_type": "execute_result"
    }
   ],
   "source": [
    "res.x"
   ]
  },
  {
   "cell_type": "markdown",
   "id": "6baeb7f5",
   "metadata": {},
   "source": [
    "Note use of different techniques for different problems"
   ]
  },
  {
   "cell_type": "code",
   "execution_count": 13,
   "id": "3a7d34fc",
   "metadata": {},
   "outputs": [],
   "source": [
    "#minimize?"
   ]
  },
  {
   "cell_type": "markdown",
   "id": "352be11b",
   "metadata": {},
   "source": [
    "## Interpolation\n",
    "\n",
    "Suppose you have the following data (Generated here, but perhaps it came from an experiment)"
   ]
  },
  {
   "cell_type": "code",
   "execution_count": 14,
   "id": "51dda5ef",
   "metadata": {},
   "outputs": [
    {
     "data": {
      "text/plain": [
       "<matplotlib.collections.PathCollection at 0x148e2e02820>"
      ]
     },
     "execution_count": 14,
     "metadata": {},
     "output_type": "execute_result"
    },
    {
     "data": {
      "image/png": "[encoded data removed]",
      "text/plain": [
       "<Figure size 432x288 with 1 Axes>"
      ]
     },
     "metadata": {
      "needs_background": "light"
     },
     "output_type": "display_data"
    }
   ],
   "source": [
    "x = np.linspace(0,10, 11)\n",
    "y = x**2 * np.sin(x)\n",
    "plt.scatter(x, y)"
   ]
  },
  {
   "cell_type": "markdown",
   "id": "84523043",
   "metadata": {},
   "source": [
    "You want to know the values in between"
   ]
  },
  {
   "cell_type": "code",
   "execution_count": 16,
   "id": "2ccb57d9",
   "metadata": {},
   "outputs": [],
   "source": [
    "from scipy.interpolate import interp1d"
   ]
  },
  {
   "cell_type": "code",
   "execution_count": 19,
   "id": "c4314752",
   "metadata": {},
   "outputs": [
    {
     "data": {
      "text/plain": [
       "[<matplotlib.lines.Line2D at 0x148e507fdc0>]"
      ]
     },
     "execution_count": 19,
     "metadata": {},
     "output_type": "execute_result"
    },
    {
     "data": {
      "image/png": "[encoded data removed]",
      "text/plain": [
       "<Figure size 432x288 with 1 Axes>"
      ]
     },
     "metadata": {
      "needs_background": "light"
     },
     "output_type": "display_data"
    }
   ],
   "source": [
    "f = interp1d(x, y, kind='cubic')\n",
    "x_dense = np.linspace(0, 10, 101)\n",
    "y_dense = f(x_dense)\n",
    "plt.plot(x_dense, y_dense)"
   ]
  },
  {
   "cell_type": "markdown",
   "id": "9b2ae672",
   "metadata": {},
   "source": [
    "## Curve Fitting\n",
    "\n",
    "Trivial example"
   ]
  },
  {
   "cell_type": "code",
   "execution_count": 20,
   "id": "1fa1d8ce",
   "metadata": {},
   "outputs": [
    {
     "data": {
      "text/plain": [
       "<matplotlib.collections.PathCollection at 0x148e70d5e50>"
      ]
     },
     "execution_count": 20,
     "metadata": {},
     "output_type": "execute_result"
    },
    {
     "data": {
      "image/png": "[encoded data removed]",
      "text/plain": [
       "<Figure size 432x288 with 1 Axes>"
      ]
     },
     "metadata": {
      "needs_background": "light"
     },
     "output_type": "display_data"
    }
   ],
   "source": [
    "x_data = np.linspace(0, 10, 11)\n",
    "y_data = 3*x_data**2 + 2\n",
    "plt.scatter(x_data, y_data)"
   ]
  },
  {
   "cell_type": "markdown",
   "id": "f27dce7c",
   "metadata": {},
   "source": [
    "Want to fit the data to the curve $y=ax^2+b$. The main goal here is to determine the values of $a$ and $b$."
   ]
  },
  {
   "cell_type": "code",
   "execution_count": 22,
   "id": "33a7cd1a",
   "metadata": {},
   "outputs": [],
   "source": [
    "from scipy.optimize import curve_fit\n",
    "\n",
    "def func(x, a, b):\n",
    "    return a*x**2 + b\n",
    "\n",
    "popt, pcov = curve_fit(func, x_data, y_data, p0=(1, 1))"
   ]
  },
  {
   "cell_type": "code",
   "execution_count": 24,
   "id": "cfdd0cb3",
   "metadata": {},
   "outputs": [
    {
     "data": {
      "text/plain": [
       "(array([3., 2.]),\n",
       " array([[ 1.15495883e-35, -4.04235591e-34],\n",
       "        [-4.04235591e-34,  2.65987019e-32]]))"
      ]
     },
     "execution_count": 24,
     "metadata": {},
     "output_type": "execute_result"
    }
   ],
   "source": [
    "popt, pcov"
   ]
  },
  {
   "cell_type": "markdown",
   "id": "2a67770e",
   "metadata": {},
   "source": [
    "The equation for spring motion is $y(t)=A\\cos (\\omega t + \\phi)$. Want to find the natural frequency of oscillation $\\omega$ for the spring. You collect the following data:"
   ]
  },
  {
   "cell_type": "code",
   "execution_count": 25,
   "id": "69b3c95c",
   "metadata": {},
   "outputs": [],
   "source": [
    "t_data = np.array([ 0.   ,  0.34482759,  0.68965517,  1.03448276,  1.37931034,\n",
    "        1.72413793,  2.06896552,  2.4137931 ,  2.75862069,  3.10344828,\n",
    "        3.44827586,  3.79310345,  4.13793103,  4.48275862,  4.82758621,\n",
    "        5.17241379,  5.51724138,  5.86206897,  6.20689655,  6.55172414,\n",
    "        6.89655172,  7.24137931,  7.5862069 ,  7.93103448,  8.27586207,\n",
    "        8.62068966,  8.96551724,  9.31034483,  9.65517241, 10.        ])\n",
    "y_data = np.array([ 4.3303953 ,  1.61137995, -2.15418696, -3.90137249, -1.67259042,\n",
    "        2.16884383,  3.86635998,  1.85194506, -1.8489224 , -3.96560495,\n",
    "       -2.13385255,  1.59425817,  4.06145238,  1.89300594, -1.76870297,\n",
    "       -4.26791226, -2.46874133,  1.37019912,  4.24945607,  2.27038039,\n",
    "       -1.50299303, -3.46774049, -2.50845488,  1.20022052,  3.81633703,\n",
    "        2.91511556, -1.24569189, -3.72716214, -2.54549857,  0.87262548])"
   ]
  },
  {
   "cell_type": "code",
   "execution_count": 26,
   "id": "1485671d",
   "metadata": {},
   "outputs": [
    {
     "data": {
      "text/plain": [
       "[<matplotlib.lines.Line2D at 0x148e7151700>]"
      ]
     },
     "execution_count": 26,
     "metadata": {},
     "output_type": "execute_result"
    },
    {
     "data": {
      "image/png": "[encoded data removed]",
      "text/plain": [
       "<Figure size 432x288 with 1 Axes>"
      ]
     },
     "metadata": {
      "needs_background": "light"
     },
     "output_type": "display_data"
    }
   ],
   "source": [
    "plt.plot(t_data, y_data, 'o--')"
   ]
  },
  {
   "cell_type": "markdown",
   "id": "2ff9b7e9",
   "metadata": {},
   "source": [
    "$\\omega = 2\\pi f$, $f=\\frac{1}{T}$, and $T\\approx 2$ seconds. Thus, a good initial guess is\n",
    "\n",
    "* $A=4$\n",
    "* $\\omega = 2\\pi \\cdot \\frac{1}{2} = \\pi$\n",
    "* $\\phi=0$"
   ]
  },
  {
   "cell_type": "code",
   "execution_count": 31,
   "id": "66c2d63f",
   "metadata": {},
   "outputs": [
    {
     "data": {
      "text/plain": [
       "(array([3.94836219, 2.99899521, 0.10411352]),\n",
       " array([[ 2.61882717e-03, -4.94131505e-06,  3.47404558e-05],\n",
       "        [-4.94131505e-06,  1.85637335e-05, -9.60755036e-05],\n",
       "        [ 3.47404558e-05, -9.60755036e-05,  6.63423791e-04]]))"
      ]
     },
     "execution_count": 31,
     "metadata": {},
     "output_type": "execute_result"
    }
   ],
   "source": [
    "def f(t, A, w, phi):\n",
    "    return A*np.cos(w*t+phi)\n",
    "\n",
    "popt, pcov = curve_fit(f, t_data, y_data, p0=(4, np.pi, 0))\n",
    "popt, pcov"
   ]
  },
  {
   "cell_type": "code",
   "execution_count": 35,
   "id": "4f72bd9c",
   "metadata": {},
   "outputs": [],
   "source": [
    "A, w, phi = popt"
   ]
  },
  {
   "cell_type": "code",
   "execution_count": 38,
   "id": "dbe27e31",
   "metadata": {},
   "outputs": [
    {
     "data": {
      "text/plain": [
       "array([2.61882717e-03, 1.85637335e-05, 6.63423791e-04])"
      ]
     },
     "execution_count": 38,
     "metadata": {},
     "output_type": "execute_result"
    }
   ],
   "source": [
    "np.diag(pcov) # Variance for variables"
   ]
  },
  {
   "cell_type": "code",
   "execution_count": 39,
   "id": "307e0baa",
   "metadata": {},
   "outputs": [
    {
     "data": {
      "text/plain": [
       "array([0.05117448, 0.00430857, 0.02575701])"
      ]
     },
     "execution_count": 39,
     "metadata": {},
     "output_type": "execute_result"
    }
   ],
   "source": [
    "np.sqrt(np.diag(pcov)) # Standard deviation for variables"
   ]
  },
  {
   "cell_type": "code",
   "execution_count": 36,
   "id": "7e792035",
   "metadata": {},
   "outputs": [
    {
     "data": {
      "text/plain": [
       "[<matplotlib.lines.Line2D at 0x148e764d610>]"
      ]
     },
     "execution_count": 36,
     "metadata": {},
     "output_type": "execute_result"
    },
    {
     "data": {
      "image/png": "[encoded data removed]",
      "text/plain": [
       "<Figure size 432x288 with 1 Axes>"
      ]
     },
     "metadata": {
      "needs_background": "light"
     },
     "output_type": "display_data"
    }
   ],
   "source": [
    "t = np.linspace(0, 10, 101)\n",
    "y = f(t, A, w, phi)\n",
    "plt.scatter(t_data, y_data)\n",
    "plt.plot(x, y)"
   ]
  },
  {
   "cell_type": "markdown",
   "id": "af69886c",
   "metadata": {},
   "source": [
    "Good initial guesses are important for `curve_fit` to find an optimal solution"
   ]
  },
  {
   "cell_type": "markdown",
   "id": "e21a6a63",
   "metadata": {},
   "source": [
    "## Special Functions\n",
    "\n",
    "Legendre Polynomials $P_l(x)$: satisfy $(1-x^2)y^n - 2xy' + l(l+1)y = 0$\n",
    "\n",
    "* The angular component of the spherical Schrodinger Equation which permits non-infinite solutions"
   ]
  },
  {
   "cell_type": "code",
   "execution_count": 40,
   "id": "4b6a4a03",
   "metadata": {},
   "outputs": [
    {
     "data": {
      "image/png": "[encoded data removed]",
      "text/plain": [
       "<Figure size 432x288 with 1 Axes>"
      ]
     },
     "metadata": {
      "needs_background": "light"
     },
     "output_type": "display_data"
    }
   ],
   "source": [
    "from scipy.special import legendre\n",
    "x = np.linspace(0, 1, 101)\n",
    "plt.plot(x, legendre(6)(x))\n",
    "plt.show()"
   ]
  },
  {
   "cell_type": "markdown",
   "id": "135d3753",
   "metadata": {},
   "source": [
    "Bessel functions $J_\\alpha(x)$: satisfy $x^2y^n + xy' + (x^2-\\alpha^2)y = 0$\n",
    "\n",
    "* Laplace's Equation in polar coordinates"
   ]
  },
  {
   "cell_type": "code",
   "execution_count": 41,
   "id": "94c8747e",
   "metadata": {},
   "outputs": [
    {
     "data": {
      "image/png": "[encoded data removed]",
      "text/plain": [
       "<Figure size 432x288 with 1 Axes>"
      ]
     },
     "metadata": {
      "needs_background": "light"
     },
     "output_type": "display_data"
    }
   ],
   "source": [
    "from scipy.special import jv\n",
    "x = np.linspace(0, 10, 101)\n",
    "plt.plot(x, jv(3, x))\n",
    "plt.show()"
   ]
  },
  {
   "cell_type": "markdown",
   "id": "5777c189",
   "metadata": {},
   "source": [
    "# Calculus\n",
    "\n",
    "## Differentiation"
   ]
  },
  {
   "cell_type": "code",
   "execution_count": 46,
   "id": "ee7694ac",
   "metadata": {},
   "outputs": [],
   "source": [
    "from scipy.misc import derivative\n",
    "\n",
    "def f(x):\n",
    "    return x**2 * np.sin(2*x) * np.exp(-x)\n",
    "x = np.linspace(0, 1, 101)"
   ]
  },
  {
   "cell_type": "code",
   "execution_count": 50,
   "id": "eab2a65c",
   "metadata": {},
   "outputs": [],
   "source": [
    "d = derivative(f, x, dx=1e-6)\n",
    "d2 = derivative(f, x, dx=1e-6, n=2)"
   ]
  },
  {
   "cell_type": "code",
   "execution_count": 56,
   "id": "14654f88",
   "metadata": {},
   "outputs": [
    {
     "data": {
      "text/plain": [
       "[<matplotlib.lines.Line2D at 0x148ec6ed460>]"
      ]
     },
     "execution_count": 56,
     "metadata": {},
     "output_type": "execute_result"
    },
    {
     "data": {
      "image/png": "[encoded data removed]",
      "text/plain": [
       "<Figure size 432x288 with 1 Axes>"
      ]
     },
     "metadata": {
      "needs_background": "light"
     },
     "output_type": "display_data"
    }
   ],
   "source": [
    "plt.plot(x, f(x), color='black')\n",
    "plt.plot(x, d, color='blue')\n",
    "plt.plot(x, d2, color='green')"
   ]
  },
  {
   "cell_type": "markdown",
   "id": "cacf825d",
   "metadata": {},
   "source": [
    "## Integration\n",
    "\n",
    "Single integrals\n",
    "\\begin{equation}\n",
    "\\int_0^1 x^2 \\sin(2x)e^{-x}dx\n",
    "\\end{equation}"
   ]
  },
  {
   "cell_type": "code",
   "execution_count": 57,
   "id": "0aad15e2",
   "metadata": {},
   "outputs": [],
   "source": [
    "from scipy.integrate import quad"
   ]
  },
  {
   "cell_type": "code",
   "execution_count": 61,
   "id": "66b8afca",
   "metadata": {},
   "outputs": [
    {
     "data": {
      "text/plain": [
       "(0.14558175869954834, 1.6162822047366225e-15)"
      ]
     },
     "execution_count": 61,
     "metadata": {},
     "output_type": "execute_result"
    }
   ],
   "source": [
    "integrand = lambda x: x**2 * np.sin(2*x) * np.exp(-x)\n",
    "integral, integral_error = quad(integrand, 0, 1)\n",
    "integral, integral_error"
   ]
  },
  {
   "cell_type": "markdown",
   "id": "6320177d",
   "metadata": {},
   "source": [
    "Double integrals\n",
    "\\begin{equation}\n",
    "\\int_0^1 \\int_{-x}^{x^2} \\sin(x+y^2)dydx\n",
    "\\end{equation}"
   ]
  },
  {
   "cell_type": "code",
   "execution_count": 58,
   "id": "53ac35b6",
   "metadata": {},
   "outputs": [],
   "source": [
    "from scipy.integrate import dblquad"
   ]
  },
  {
   "cell_type": "code",
   "execution_count": 68,
   "id": "df66058d",
   "metadata": {},
   "outputs": [
    {
     "data": {
      "text/plain": [
       "(0.590090324408853, 2.0545915475811425e-14)"
      ]
     },
     "execution_count": 68,
     "metadata": {},
     "output_type": "execute_result"
    }
   ],
   "source": [
    "integrand = lambda y, x: np.sin(x + y**2) # Inside out\n",
    "lwr_y = lambda x: -x\n",
    "upr_y = lambda x: x**2\n",
    "integral, integral_error = dblquad(integrand, 0, 1, lwr_y, upr_y)\n",
    "integral, integral_error"
   ]
  },
  {
   "cell_type": "code",
   "execution_count": 70,
   "id": "8be8e1cc",
   "metadata": {},
   "outputs": [],
   "source": [
    "from scipy.integrate import nquad # N-dimensional integrals"
   ]
  },
  {
   "cell_type": "markdown",
   "id": "919bdc5c",
   "metadata": {},
   "source": [
    "# Differential Equations\n",
    "\n",
    "## First order ODEs\n",
    "\n",
    "Air friction while falling\n",
    "\\begin{equation}\n",
    "v' -\\alpha v^2 + \\beta = 0 \\quad\\quad v(0)=0\n",
    "\\end{equation}"
   ]
  },
  {
   "cell_type": "code",
   "execution_count": 73,
   "id": "20984368",
   "metadata": {},
   "outputs": [],
   "source": [
    "from scipy.integrate import odeint # Another solver is solve_ivp (heavy duty)"
   ]
  },
  {
   "cell_type": "markdown",
   "id": "4fdc8887",
   "metadata": {},
   "source": [
    "All information about differential equation"
   ]
  },
  {
   "cell_type": "code",
   "execution_count": 74,
   "id": "e21d7ae3",
   "metadata": {},
   "outputs": [],
   "source": [
    "def dvdt(v, t):\n",
    "    return 3*v**2 - 5 # assuming alpha = 3, beta = 5\n",
    "v0 = 0"
   ]
  },
  {
   "cell_type": "markdown",
   "id": "5eb21639",
   "metadata": {},
   "source": [
    "Solve differential equation"
   ]
  },
  {
   "cell_type": "code",
   "execution_count": 80,
   "id": "5f39b55b",
   "metadata": {},
   "outputs": [],
   "source": [
    "t = np.linspace(0, 1, 100)\n",
    "sol = odeint(dvdt, v0, t)"
   ]
  },
  {
   "cell_type": "code",
   "execution_count": 81,
   "id": "33fe9629",
   "metadata": {},
   "outputs": [
    {
     "data": {
      "text/plain": [
       "[<matplotlib.lines.Line2D at 0x148ebddacd0>]"
      ]
     },
     "execution_count": 81,
     "metadata": {},
     "output_type": "execute_result"
    },
    {
     "data": {
      "image/png": "[encoded data removed]",
      "text/plain": [
       "<Figure size 432x288 with 1 Axes>"
      ]
     },
     "metadata": {
      "needs_background": "light"
     },
     "output_type": "display_data"
    }
   ],
   "source": [
    "plt.plot(t, sol.T[0])"
   ]
  },
  {
   "cell_type": "markdown",
   "id": "2611ed5a",
   "metadata": {},
   "source": [
    "## Coupled First Order ODEs\n",
    "\n",
    "\\begin{equation}\n",
    "y'_1 = y_1 + y_2^2 + 3x \\quad\\quad y_1(0) = 0 \\\\\n",
    "y'_2 = 3y_1 + y_2^3 - \\cos(x) \\quad\\quad y_2(0) = 0\n",
    "\\end{equation}\n",
    "\n",
    "Letting $S = (y_1, y_2)$, we need to write a function that returns $\\frac{dS}{dx} = \\left(\\frac{dy_1}{dx}, \\frac{dy_2}{dx}\\right)$. The function $\\frac{dS}{dx}$ can take in $S=(y_1, y_2)$ and $x$."
   ]
  },
  {
   "cell_type": "code",
   "execution_count": 82,
   "id": "3f755e69",
   "metadata": {},
   "outputs": [],
   "source": [
    "def dSdx(S, x):\n",
    "    y1, y2 = S\n",
    "    return [y1+y2**2+3*x,\n",
    "            3*y1+y2**3-np.cos(x)]\n",
    "y1_0 = 0\n",
    "y2_0 = 0\n",
    "S_0 = (y1_0, y2_0)"
   ]
  },
  {
   "cell_type": "code",
   "execution_count": 98,
   "id": "7b9a92f7",
   "metadata": {},
   "outputs": [],
   "source": [
    "x = np.linspace(0, 1, 100)\n",
    "sol = odeint(dSdx, S_0, x)\n",
    "y1, y2 = sol.T"
   ]
  },
  {
   "cell_type": "code",
   "execution_count": 100,
   "id": "91904a12",
   "metadata": {},
   "outputs": [
    {
     "data": {
      "text/plain": [
       "[<matplotlib.lines.Line2D at 0x148ed4cb9a0>]"
      ]
     },
     "execution_count": 100,
     "metadata": {},
     "output_type": "execute_result"
    },
    {
     "data": {
      "image/png": "[encoded data removed]",
      "text/plain": [
       "<Figure size 432x288 with 1 Axes>"
      ]
     },
     "metadata": {
      "needs_background": "light"
     },
     "output_type": "display_data"
    }
   ],
   "source": [
    "plt.plot(x, y1)\n",
    "plt.plot(x, y2)"
   ]
  },
  {
   "cell_type": "markdown",
   "id": "20e7e519",
   "metadata": {},
   "source": [
    "## Second Order ODEs\n",
    "\n",
    "Equation for a pendulum\n",
    "\\begin{equation}\n",
    "\\theta'' - \\sin(\\theta) = 0\n",
    "\\end{equation}\n",
    "\n",
    "SciPy can only solve coupled first order ODEs, but **any second order ODE can be turned into two coupled first order ODEs**. The same thing goes for higher order ODEs.\n",
    "\n",
    "Define $\\omega = \\frac{d\\theta}{dt}$ so that one has the following coupled ODEs\n",
    "\\begin{equation}\n",
    "\\frac{d\\omega}{dt} = \\sin(\\theta) \\\\\n",
    "\\frac{d\\theta}{dt} = \\omega\n",
    "\\end{equation}\n",
    "\n",
    "Let $S = (\\theta, \\omega)$:"
   ]
  },
  {
   "cell_type": "code",
   "execution_count": 101,
   "id": "287fbea2",
   "metadata": {},
   "outputs": [],
   "source": [
    "def dSdt(S, t):\n",
    "    theta, omega = S\n",
    "    return [omega,\n",
    "            np.sin(theta)]\n",
    "theta_0 = np.pi/4\n",
    "omega_0 = 0\n",
    "S0 = (theta_0, omega_0)"
   ]
  },
  {
   "cell_type": "code",
   "execution_count": 102,
   "id": "e7af622d",
   "metadata": {},
   "outputs": [],
   "source": [
    "t = np.linspace(0, 20, 100)\n",
    "sol = odeint(dSdt, S0, t)\n",
    "theta, omega = sol.T"
   ]
  },
  {
   "cell_type": "code",
   "execution_count": 103,
   "id": "013ec67d",
   "metadata": {},
   "outputs": [
    {
     "data": {
      "text/plain": [
       "[<matplotlib.lines.Line2D at 0x148ed5331c0>]"
      ]
     },
     "execution_count": 103,
     "metadata": {},
     "output_type": "execute_result"
    },
    {
     "data": {
      "image/png": "[encoded data removed]",
      "text/plain": [
       "<Figure size 432x288 with 1 Axes>"
      ]
     },
     "metadata": {
      "needs_background": "light"
     },
     "output_type": "display_data"
    }
   ],
   "source": [
    "plt.plot(t, theta)"
   ]
  }
 ],
 "metadata": {
  "kernelspec": {
   "display_name": "Python 3 (ipykernel)",
   "language": "python",
   "name": "python3"
  },
  "language_info": {
   "codemirror_mode": {
    "name": "ipython",
    "version": 3
   },
   "file_extension": ".py",
   "mimetype": "text/x-python",
   "name": "python",
   "nbconvert_exporter": "python",
   "pygments_lexer": "ipython3",
   "version": "3.9.10"
  }
 },
 "nbformat": 4,
 "nbformat_minor": 5
}
